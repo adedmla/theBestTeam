{
 "cells": [
  {
   "cell_type": "markdown",
   "metadata": {},
   "source": [
    "### Notebook using OpenRouteService (ORS) Free Tier Implementation"
   ]
  },
  {
   "cell_type": "code",
   "execution_count": 11,
   "metadata": {},
   "outputs": [],
   "source": [
    "import os\n",
    "import json\n",
    "from dotenv import load_dotenv\n",
    "import openrouteservice"
   ]
  },
  {
   "cell_type": "code",
   "execution_count": 7,
   "metadata": {},
   "outputs": [],
   "source": [
    "# get API key from .env file\n",
    "load_dotenv()\n",
    "ORS_API_KEY = os.getenv(\"ORS_API_KEY\")"
   ]
  },
  {
   "cell_type": "code",
   "execution_count": null,
   "metadata": {},
   "outputs": [],
   "source": [
    "# sample ORS usage\n",
    "client = openrouteservice.Client(key=ORS_API_KEY)\n",
    "\n",
    "# format: [longitude (east is -, west is +), latitude (south is -, north is +)]\n",
    "coordinates = [\n",
    "    [-89.0640, 42.2711],  # Rockford, IL\n",
    "    [-87.6877, 42.0451],  # Evanston, IL\n",
    "    [-87.6298, 41.8781]   # Chicago, IL\n",
    "]\n",
    "ors_route = client.directions(coordinates=coordinates, profile=\"driving-car\", format=\"geojson\")\n",
    "# print(\"OpenRouteService Route:\\n\", json.dumps(ors_route, indent=10))"
   ]
  },
  {
   "cell_type": "code",
   "execution_count": 30,
   "metadata": {},
   "outputs": [
    {
     "name": "stdout",
     "output_type": "stream",
     "text": [
      "Total Distance: 154.00 km\n",
      "Total Duration: 135.56 min\n",
      "\n",
      "Step-by-Step Directions:\n",
      "- Head south on North Chicago Avenue (457.5m, 54.9s)\n",
      "- Turn sharp left onto East State Street, US 20 Business (4692.0m, 343.1s)\n",
      "- Turn slight right onto East State Street (3833.6m, 253.7s)\n",
      "- Turn left (301.7m, 19.7s)\n",
      "- Keep left (3801.6m, 251.0s)\n",
      "- Keep left onto Jane Addams Memorial Tollway, I 90 (32610.0m, 1174.0s)\n",
      "- Keep left onto Jane Addams Memorial Tollway, I 90 (65211.3m, 2359.0s)\n",
      "- Keep left onto Jane Addams Memorial Tollway, I 90 (6039.2m, 325.8s)\n",
      "- Keep right (426.0m, 30.7s)\n",
      "- Turn left onto North Nagle Avenue (94.6m, 20.1s)\n",
      "- Turn right onto West Bryn Mawr Avenue (1602.5m, 129.7s)\n",
      "- Turn left onto North Central Avenue (2511.3m, 226.8s)\n",
      "- Turn right onto West Pratt Avenue (1931.8m, 170.9s)\n",
      "- Turn left onto Kostner Avenue (1611.6m, 133.8s)\n",
      "- Turn right onto West Howard Street (2210.0m, 192.9s)\n",
      "- Turn left onto North McCormick Boulevard (814.2m, 63.5s)\n",
      "- Turn right onto Oakton Street (2116.9m, 234.0s)\n",
      "- Turn sharp left onto Ridge Avenue (1966.5m, 141.1s)\n",
      "- Turn right onto Lake Street (59.4m, 4.8s)\n",
      "- Turn left (102.1m, 18.4s)\n",
      "- Arrive at your destination, on the right (0.0m, 0.0s)\n",
      "- Head south (102.1m, 18.4s)\n",
      "- Turn right onto Lake Street (59.4m, 4.8s)\n",
      "- Turn left onto Ridge Avenue (5925.6m, 475.7s)\n",
      "- Turn left onto North Ridge Avenue (302.5m, 41.8s)\n",
      "- Keep right onto North Ridge Avenue, US 14 (1280.8m, 128.3s)\n",
      "- Turn slight left onto West Bryn Mawr Avenue (532.5m, 87.4s)\n",
      "- Turn slight right (1483.0m, 106.8s)\n",
      "- Keep right (438.6m, 39.4s)\n",
      "- Keep right (417.4m, 38.9s)\n",
      "- Keep right (149.2m, 13.4s)\n",
      "- Turn slight left onto North Marine Drive (58.3m, 4.7s)\n",
      "- Keep left (6727.8m, 515.5s)\n",
      "- Keep right (392.8m, 40.9s)\n",
      "- Keep left onto North Lake Shore Drive (341.0m, 56.9s)\n",
      "- Turn right onto East Chestnut Street (225.2m, 18.0s)\n",
      "- Turn left onto North Wabash Avenue (650.6m, 62.1s)\n",
      "- Turn left onto East Ohio Street (110.3m, 11.3s)\n",
      "- Turn right onto North Rush Street (178.5m, 34.2s)\n",
      "- Turn left onto East Illinois Street (95.6m, 13.7s)\n",
      "- Turn right onto North Lower Michigan Avenue (458.2m, 55.2s)\n",
      "- Turn right onto Lower East Wacker Place (60.2m, 14.4s)\n",
      "- Turn left onto North Garland Court (119.5m, 20.1s)\n",
      "- Turn right onto East Lake Street (81.8m, 16.3s)\n",
      "- Turn left onto North Wabash Avenue (976.8m, 113.0s)\n",
      "- Turn right onto East Van Buren Street (304.6m, 44.1s)\n",
      "- Turn right onto South Federal Street (133.7m, 10.7s)\n",
      "- Arrive at South Federal Street, on the left (0.0m, 0.0s)\n"
     ]
    }
   ],
   "source": [
    "# main route info\n",
    "route = ors_route[\"features\"][0][\"properties\"]\n",
    "segments = route[\"segments\"]\n",
    "\n",
    "# total distance, and time\n",
    "total_distance_km = route[\"summary\"][\"distance\"] / 1000  # m to km\n",
    "total_duration_min = route[\"summary\"][\"duration\"] / 60  # s to min\n",
    "\n",
    "print(f\"Total Distance: {total_distance_km:.2f} km\")\n",
    "print(f\"Total Duration: {total_duration_min:.2f} min\")\n",
    "\n",
    "# step by step\n",
    "print(\"\\nStep-by-Step Directions:\")\n",
    "for segment in segments:\n",
    "    for step in segment[\"steps\"]:\n",
    "        instruction = step[\"instruction\"]\n",
    "        distance_m = step[\"distance\"]\n",
    "        duration_sec = step[\"duration\"]\n",
    "\n",
    "        print(f\"- {instruction} ({distance_m:.1f}m, {duration_sec:.1f}s)\")"
   ]
  }
 ],
 "metadata": {
  "kernelspec": {
   "display_name": "raiso_project25",
   "language": "python",
   "name": "python3"
  },
  "language_info": {
   "codemirror_mode": {
    "name": "ipython",
    "version": 3
   },
   "file_extension": ".py",
   "mimetype": "text/x-python",
   "name": "python",
   "nbconvert_exporter": "python",
   "pygments_lexer": "ipython3",
   "version": "3.12.9"
  }
 },
 "nbformat": 4,
 "nbformat_minor": 2
}
