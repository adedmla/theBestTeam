{
 "cells": [
  {
   "cell_type": "markdown",
   "metadata": {},
   "source": [
    "### Google Maps API Test Implementation\n",
    "##### Note: unsure about usage amounts - looks like free tier allows a certain amount of requests per month"
   ]
  },
  {
   "cell_type": "code",
   "execution_count": 2,
   "metadata": {},
   "outputs": [],
   "source": [
    "import os\n",
    "from dotenv import load_dotenv\n",
    "import googlemaps"
   ]
  },
  {
   "cell_type": "code",
   "execution_count": 7,
   "metadata": {},
   "outputs": [],
   "source": [
    "# get API key from .env file\n",
    "load_dotenv()\n",
    "GOOGLE_MAPS_API_KEY = os.getenv(\"GOOGLE_MAPS_API_KEY\")"
   ]
  },
  {
   "cell_type": "code",
   "execution_count": 10,
   "metadata": {},
   "outputs": [],
   "source": [
    "# sample google maps usage\n",
    "client = googlemaps.Client(key=GOOGLE_MAPS_API_KEY)\n",
    "\n",
    "# query\n",
    "directions = client.directions(\"Rockford, IL\", \"Chicago, IL\", waypoints=[\"Evanston, IL\"])"
   ]
  },
  {
   "cell_type": "code",
   "execution_count": null,
   "metadata": {},
   "outputs": [
    {
     "name": "stdout",
     "output_type": "stream",
     "text": [
      "Total Distance: 172.62 km\n",
      "Total Duration: 132.35 min\n",
      "\n",
      "Step-by-Step Directions:\n",
      "- Head northwest on W State St toward S Main St (44.0m, 11.0s) [continue]\n",
      "- Turn left at the 1st cross street onto S Main St (6236.0m, 465.0s) [turn-left]\n",
      "- Turn left to merge onto US-20 E (8776.0m, 318.0s) [ramp-left]\n",
      "- Continue onto I-39 N (4600.0m, 158.0s) [continue]\n",
      "- Take the exit onto I-90 E toward Chicago - Toll road (58366.0m, 1820.0s) [ramp-right]\n",
      "- Keep left to stay on I-90 E - Toll road (39107.0m, 1223.0s) [keep-left]\n",
      "- Take exit 77B for I-294 Toll N toward Wisconsin - Toll road (341.0m, 23.0s) [ramp-right]\n",
      "- Merge onto I-294 N - Toll road (5322.0m, 182.0s) [merge]\n",
      "- Take exit 44A to merge onto US-14 E/<wbr/>E Dempster St - Pass by BMO Bank N.A Branches (on the right in 3.4 mi) (5899.0m, 513.0s) [ramp-right]\n",
      "- Turn left onto N Waukegan Rd (1619.0m, 160.0s) [turn-left]\n",
      "- Turn right onto Golf Rd (7533.0m, 604.0s) [turn-right]\n",
      "- Continue onto Emerson St (2033.0m, 266.0s) [continue]\n",
      "- Head west on Emerson St toward Oak Ave (2023.0m, 262.0s) [continue]\n",
      "- Continue onto Golf Rd (2632.0m, 221.0s) [continue]\n",
      "- Turn left onto Gross Point Rd (2108.0m, 236.0s) [turn-left]\n",
      "- Turn right onto Dempster St (611.0m, 67.0s) [turn-right]\n",
      "- Take the ramp onto I-94 E (9649.0m, 366.0s) [ramp-right]\n",
      "- Keep right to stay on I-94 E (4898.0m, 333.0s) [keep-right]\n",
      "- Take the exit on the left onto I-90/<wbr/>I-94 (6087.0m, 302.0s) [ramp-left]\n",
      "- Take the exit to stay on I-90 E/<wbr/>I-94 E toward Dan Ryan Expwy/<wbr/>Indiana (2231.0m, 117.0s) [ramp-right]\n",
      "- Take the exit toward I-290 E (92.0m, 5.0s) [ramp-right]\n",
      "- Continue onto Exit 51G (signs for East Jackson Boulevard) (311.0m, 16.0s) [continue]\n",
      "- Take the ramp to Ida B Wls Dr (552.0m, 37.0s) [continue]\n",
      "- Merge onto I-290 E (104.0m, 5.0s) [merge]\n",
      "- Continue onto IL-110 E (658.0m, 37.0s) [continue]\n",
      "- Keep left to continue on W Ida B. Wells Dr (460.0m, 71.0s) [keep-left]\n",
      "- Turn left onto S Dearborn St (149.0m, 60.0s) [turn-left]\n",
      "- Turn left onto W Van Buren St (39.0m, 20.0s) [turn-left]\n",
      "- Turn right at the 1st cross street onto S Federal St (135.0m, 43.0s) [turn-right]\n"
     ]
    }
   ],
   "source": [
    "# extract the first route\n",
    "route = directions[0]\n",
    "leg = route[\"legs\"]\n",
    "\n",
    "# print total distance and duration\n",
    "total_distance_km = sum(leg[i][\"distance\"][\"value\"] for i in range(len(leg))) / 1000  # m to km\n",
    "total_duration_min = sum(leg[i][\"duration\"][\"value\"] for i in range(len(leg))) / 60  # s to min\n",
    "\n",
    "print(f\"Total Distance: {total_distance_km:.2f} km\")\n",
    "print(f\"Total Duration: {total_duration_min:.2f} min\\n\")\n",
    "\n",
    "# extract step-by-step directions\n",
    "print(\"Step-by-Step Directions:\")\n",
    "for l in leg:\n",
    "    for step in l[\"steps\"]:\n",
    "        instruction = step[\"html_instructions\"]  # HTML tags still there\n",
    "        distance_m = step[\"distance\"][\"value\"]\n",
    "        duration_sec = step[\"duration\"][\"value\"]\n",
    "        maneuver = step.get(\"maneuver\", \"continue\")  # not all steps have maneuvers\n",
    "\n",
    "        # remove HTML tags\n",
    "        clean_instruction = instruction.replace(\"<b>\", \"\").replace(\"</b>\", \"\").replace(\"<div style=\\\"font-size:0.9em\\\">\", \" - \").replace(\"</div>\", \"\")\n",
    "\n",
    "        print(f\"- {clean_instruction} ({distance_m:.1f}m, {duration_sec:.1f}s) [{maneuver}]\")"
   ]
  }
 ],
 "metadata": {
  "kernelspec": {
   "display_name": "raiso_project25",
   "language": "python",
   "name": "python3"
  },
  "language_info": {
   "codemirror_mode": {
    "name": "ipython",
    "version": 3
   },
   "file_extension": ".py",
   "mimetype": "text/x-python",
   "name": "python",
   "nbconvert_exporter": "python",
   "pygments_lexer": "ipython3",
   "version": "3.12.9"
  }
 },
 "nbformat": 4,
 "nbformat_minor": 2
}
